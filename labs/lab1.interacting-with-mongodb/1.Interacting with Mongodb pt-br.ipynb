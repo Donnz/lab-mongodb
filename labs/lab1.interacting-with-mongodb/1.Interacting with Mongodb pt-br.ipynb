{
 "cells": [
  {
   "cell_type": "markdown",
   "metadata": {},
   "source": [
    "# Interagindo com o MongoDB via Client por Linha de Comando"
   ]
  },
  {
   "cell_type": "markdown",
   "metadata": {},
   "source": [
    "## Entering the Command Line-based Client\n",
    "\n",
    "Abra um terminal e digite o seguinte comando para acessar a interface do client:\n",
    "\n",
    "```bash\n",
    "mongo\n",
    "\n",
    "```"
   ]
  },
  {
   "cell_type": "markdown",
   "metadata": {},
   "source": [
    "Within the MongoDB shell:"
   ]
  },
  {
   "cell_type": "markdown",
   "metadata": {},
   "source": [
    "\n",
    "## Listando databases:\n",
    "\n",
    "```sql\n",
    "show dbs\n",
    "\n",
    "```"
   ]
  },
  {
   "cell_type": "markdown",
   "metadata": {},
   "source": [
    "## \"Criando\" um database:\n",
    "\n",
    "O MongoDB não fornece comandos para criar um banco de dados. Você pode usar a instrução `use <nome do banco de dados>` para selecionar um banco de dados no shell do mongo. Use o seguinte exemplo:\n",
    "\n",
    "```sql\n",
    "use thedatasociety_test_db\n",
    "\n",
    "```\n",
    "\n",
    "Exibir o banco de dados atualmente em uso:\n",
    "\n",
    "```sql\n",
    "db\n",
    "\n",
    "```"
   ]
  },
  {
   "cell_type": "markdown",
   "metadata": {},
   "source": [
    "\n",
    "\n",
    "## Listando collections\n",
    "\n",
    "Listando collections:\n",
    "\n",
    "```sql\n",
    "show collections\n",
    "```\n"
   ]
  },
  {
   "cell_type": "markdown",
   "metadata": {},
   "source": [
    "\n",
    "\n",
    "## Criando collections\n",
    "\n",
    "O MongoDB armazena documentos em coleções. As coleções são análogas às tabelas em bancos de dados relacionais como o MySQL. Geralmente, você não precisa criar uma coleção, o MongoDB faz isso automaticamente durante a inserção do primeiro documento. Para esclarecimento, criaremos explicitamente uma coleção.\n",
    "\n",
    "### Criando uma coleção explicitamente:\n",
    "\n",
    "```sql\n",
    "db.createCollection(\"myfirstcollection\")\n",
    "```\n",
    "\n",
    "Listando collections:\n",
    "\n",
    "```sql\n",
    "show collections\n",
    "```\n",
    "\n",
    "Opções durante a criação de uma collection:\n",
    "```javascript\n",
    "db.createCollection(<name>, { capped: <boolean>,\n",
    "                              autoIndexId: <boolean>,\n",
    "                              size: <number>,\n",
    "                              max: <number>,\n",
    "                              storageEngine: <document>,\n",
    "                              validator: <document>,\n",
    "                              validationLevel: <string>,\n",
    "                              validationAction: <string>,\n",
    "                              indexOptionDefaults: <document>,\n",
    "                              viewOn: <string>,\n",
    "                              pipeline: <pipeline>,\n",
    "                              collation: <document> } )\n",
    "\n",
    "```\n",
    "\n",
    "\n",
    "\n",
    "### Criando uma coleção implicitamente:\n",
    "\n",
    "Listando collections:\n",
    "\n",
    "```sql\n",
    "show collections\n",
    "```\n",
    "\n",
    "```sql\n",
    "db.mysecondcollection.insert({ \"nome\" : \"John\" })\n",
    "\n",
    "```\n",
    "\n",
    "Listando collections:\n",
    "\n",
    "```sql\n",
    "show collections\n",
    "```\n"
   ]
  },
  {
   "cell_type": "markdown",
   "metadata": {},
   "source": [
    "## Renomeando collections\n",
    "\n",
    "\n",
    "\n",
    "```sql\n",
    "db.myfirstcollection.renameCollection(\"renamedcollection\")\n",
    "```\n",
    "\n",
    "Listando collections:\n",
    "\n",
    "```sql\n",
    "show collections\n",
    "```\n"
   ]
  },
  {
   "cell_type": "markdown",
   "metadata": {},
   "source": [
    "\n",
    "\n",
    "## Fazendo dropping de uma collection\n",
    "\n",
    "\n",
    "Listando collections:\n",
    "\n",
    "```sql\n",
    "show collections\n",
    "```\n",
    "\n",
    "\n",
    "Dropping de uma collection:\n",
    "\n",
    "```sql\n",
    "db.getCollection(\"renamedcollection\").drop();\n",
    "```\n",
    "\n",
    "Listando collections:\n",
    "\n",
    "```sql\n",
    "show collections\n",
    "```\n"
   ]
  },
  {
   "cell_type": "markdown",
   "metadata": {},
   "source": [
    "# Enviando comandos para o client do MongoDB diretamente de uma célula de código do Jupyter\n",
    "\n",
    "\n",
    "O caracter `!` dentro de uma célula do Jupyter significa que queremos executar um comando bash.\n",
    "\n",
    "Por exemplo, na célula de código abaixo estamos exibindo o path atual (`pwd`) e listando todos os arquivos na pasta corrente."
   ]
  },
  {
   "cell_type": "code",
   "execution_count": null,
   "metadata": {},
   "outputs": [],
   "source": [
    "! pwd\n",
    "! ls -lh"
   ]
  },
  {
   "cell_type": "markdown",
   "metadata": {},
   "source": [
    "\n",
    "#### Eviando comandos:\n"
   ]
  },
  {
   "cell_type": "code",
   "execution_count": null,
   "metadata": {},
   "outputs": [],
   "source": [
    "! mongo --quiet --eval 'db.mycollection.insert({\"name\":\"foo\", \"last_name\":\"bar\"});' mydatabase"
   ]
  },
  {
   "cell_type": "code",
   "execution_count": null,
   "metadata": {},
   "outputs": [],
   "source": [
    "! mongo --quiet --eval 'db.mycollection.find();' mydatabase"
   ]
  },
  {
   "cell_type": "code",
   "execution_count": null,
   "metadata": {},
   "outputs": [],
   "source": [
    "! mongo --quiet --eval 'db.mycollection.find().pretty();' mydatabase"
   ]
  },
  {
   "cell_type": "markdown",
   "metadata": {},
   "source": [
    "#### Usando objetos Python"
   ]
  },
  {
   "cell_type": "code",
   "execution_count": null,
   "metadata": {},
   "outputs": [],
   "source": [
    "import json"
   ]
  },
  {
   "cell_type": "code",
   "execution_count": null,
   "metadata": {},
   "outputs": [],
   "source": [
    "documento1 = {\n",
    "    \"nome\":\"John\",\n",
    "    \"sobrenome\":\"Snow\",\n",
    "    \"status\":\"know nothing\"\n",
    "}\n",
    "\n",
    "# convertendo para string:\n",
    "documento1 = json.dumps(documento1)\n",
    "\n",
    "! mongo --quiet --eval 'db.mycollection.insert({documento1});' mydatabase"
   ]
  },
  {
   "cell_type": "code",
   "execution_count": null,
   "metadata": {},
   "outputs": [],
   "source": [
    "documento2 = {\n",
    "    \"nome\":\"Tyrion\",\n",
    "    \"sobrenome\":\"Lannister\"\n",
    "}\n",
    "\n",
    "# convertendo para string:\n",
    "documento2 = json.dumps(documento2)\n",
    "\n",
    "! mongo --quiet --eval 'db.mycollection.insert({documento2});' mydatabase"
   ]
  },
  {
   "cell_type": "code",
   "execution_count": null,
   "metadata": {},
   "outputs": [],
   "source": [
    "documento_busca = {\n",
    "    \"sobrenome\":\"Lannister\"\n",
    "}\n",
    "\n",
    "# convertendo para string:\n",
    "documento_busca = json.dumps(documento_busca)\n",
    "\n",
    "! mongo --quiet --eval 'db.mycollection.find({documento_busca}).pretty();' mydatabase"
   ]
  },
  {
   "cell_type": "code",
   "execution_count": null,
   "metadata": {},
   "outputs": [],
   "source": [
    "documento1 = {\n",
    "    \"nome\":\"Laura\",\n",
    "    \"sobrenome\":\"Lero\"\n",
    "}\n",
    "\n",
    "documento2 = {\n",
    "    \"nome\":\"Asdrubal\",\n",
    "    \"sobrenome\":\"Setubal\"\n",
    "}\n",
    "\n",
    "meu_array = [documento1, documento2]\n",
    "\n",
    "# convertendo para string:\n",
    "meu_array = json.dumps(meu_array)\n",
    "\n",
    "! mongo --quiet --eval 'db.mycollection.insert({meu_array});' mydatabase\n"
   ]
  },
  {
   "cell_type": "code",
   "execution_count": null,
   "metadata": {},
   "outputs": [],
   "source": [
    "documento_busca = {\n",
    "    \n",
    "}\n",
    "\n",
    "# convertendo para string:\n",
    "documento_busca = json.dumps(documento_busca)\n",
    "\n",
    "! mongo --quiet --eval 'db.mycollection.find({documento_busca}).pretty();' mydatabase"
   ]
  }
 ],
 "metadata": {
  "kernelspec": {
   "display_name": "Python 3",
   "language": "python",
   "name": "python3"
  },
  "language_info": {
   "codemirror_mode": {
    "name": "ipython",
    "version": 3
   },
   "file_extension": ".py",
   "mimetype": "text/x-python",
   "name": "python",
   "nbconvert_exporter": "python",
   "pygments_lexer": "ipython3",
   "version": "3.7.6"
  }
 },
 "nbformat": 4,
 "nbformat_minor": 4
}
