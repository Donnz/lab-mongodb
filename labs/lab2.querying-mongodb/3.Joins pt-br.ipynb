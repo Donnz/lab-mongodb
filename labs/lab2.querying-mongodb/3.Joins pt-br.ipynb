{
 "cells": [
  {
   "cell_type": "markdown",
   "metadata": {},
   "source": [
    "## Conectando ao MongoDB usando Python"
   ]
  },
  {
   "cell_type": "code",
   "execution_count": 3,
   "metadata": {},
   "outputs": [],
   "source": [
    "from pymongo import MongoClient\n",
    "from pprintpp import pprint\n",
    "import warnings\n",
    "warnings.filterwarnings('ignore')"
   ]
  },
  {
   "cell_type": "code",
   "execution_count": 4,
   "metadata": {},
   "outputs": [
    {
     "data": {
      "text/plain": [
       "Database(MongoClient(host=['localhost:27017'], document_class=dict, tz_aware=False, connect=True), 'thedatasocietydb')"
      ]
     },
     "execution_count": 4,
     "metadata": {},
     "output_type": "execute_result"
    }
   ],
   "source": [
    "mongoclient = MongoClient('localhost', 27017)\n",
    "db = mongoclient.thedatasocietydb\n",
    "db"
   ]
  },
  {
   "cell_type": "markdown",
   "metadata": {},
   "source": [
    "## Referencing"
   ]
  },
  {
   "cell_type": "code",
   "execution_count": null,
   "metadata": {},
   "outputs": [],
   "source": [
    "# Insere primeiro autor do livro Vida dos Dinossauros\n",
    "\n",
    "db.autores.insert(\n",
    "  {\n",
    "    \"autor\": \"Horacio\",\n",
    "    \"publicacao\": { \"tipo\": \"livro\",\n",
    "                    \"titulo\": \"Vida dos Dinossauros\",\n",
    "                    \"ano\": 2010\n",
    "                  }\n",
    "  }\n",
    ");\n"
   ]
  },
  {
   "cell_type": "code",
   "execution_count": null,
   "metadata": {},
   "outputs": [],
   "source": [
    "# Inserir outro autor para o livro Vida dos Dinossauros\n",
    "\n",
    "db.autores.insert(\n",
    "  {\n",
    "    \"autor\": \"Davi\",\n",
    "    \"publicacao\": { \"tipo\": \"livro\",\n",
    "                    \"titulo\": \"Vida dos Dinossauros\",\n",
    "                    \"ano\": 2010\n",
    "                  }\n",
    "  }\n",
    ");\n"
   ]
  },
  {
   "cell_type": "markdown",
   "metadata": {},
   "source": [
    "## Referência Cruzada - criando coleção publicações"
   ]
  },
  {
   "cell_type": "code",
   "execution_count": null,
   "metadata": {},
   "outputs": [],
   "source": [
    "# Inserir um documento na coleção publicacoes com _id manual\n",
    "\n",
    "db.publicacoes.insert(\n",
    "  {\n",
    "    \"_id\": \"livro1\",\n",
    "    \"tipo\": \"livro\",\n",
    "    \"titulo\": \"Antes da Extinção\",\n",
    "    \"ano\": 2011\n",
    "  }\n",
    ");"
   ]
  },
  {
   "cell_type": "code",
   "execution_count": null,
   "metadata": {},
   "outputs": [],
   "source": [
    "# Inserir um documento na coleção autores com _id manual referenciando a publicacao anterior\n",
    "db.autores.insert(\n",
    "  {\n",
    "    \"_id\": \"autor1\",\n",
    "    \"autor\": \"Davi\",\n",
    "    \"publicacao\": \"livro1\"\n",
    "  }\n",
    ");\n"
   ]
  },
  {
   "cell_type": "code",
   "execution_count": null,
   "metadata": {},
   "outputs": [],
   "source": [
    "# Outro autor para a mesma publicacao\n",
    "\n",
    "db.autores.insert(\n",
    "  {\n",
    "    \"_id\": \"autor2\",\n",
    "    \"autor\": \"Marcos\",\n",
    "    \"publicacao\": \"livro1\"\n",
    "  }\n",
    ");\n"
   ]
  },
  {
   "cell_type": "markdown",
   "metadata": {},
   "source": [
    "## O ideal é inserir os dados de publicação para ambos os autores, por exemplo:\n",
    "\n",
    "```json\n",
    "db.autores.insert(\n",
    "  {\n",
    "     \"_id\": \"autor1\",\n",
    "    \"autor\": \"Davi\",\n",
    "    \"publicacao\": { \"id\": \"livro1\",\n",
    "                    \"tipo\": \"livro\",\n",
    "                    \"titulo\": \"Antes da Extinção\",\n",
    "                    \"ano\": 2011\n",
    "                  }\n",
    "  }\n",
    ");\n",
    "\n",
    "\n",
    "db.autores.insert(\n",
    "  {\n",
    "     \"_id\": \"autor2\",\n",
    "     \"autor\": \"Marcos\",\n",
    "     \"publicacao\": {  \"id\": \"livro1\",\n",
    "                      \"tipo\": \"livro\",\n",
    "                      \"titulo\": \"Antes da Extinção\",\n",
    "                      \"ano\": 2011\n",
    "                   }\n",
    "  }\n",
    ");\n",
    "\n",
    "```\n"
   ]
  },
  {
   "cell_type": "markdown",
   "metadata": {},
   "source": [
    "# Utilizando Script JS com o MongoDB\n",
    "# Referência Cruzada: _id automática"
   ]
  },
  {
   "cell_type": "markdown",
   "metadata": {},
   "source": [
    "### Script _id automatica\n",
    "```json\n",
    "db = db.getSiblingDB('thedatasocietydb');\n",
    "\n",
    "// Obtendo id automática da função ObjectId\n",
    "publicacaoId = ObjectId();\n",
    "\n",
    "// Inserir um documento na coleção publicacoes com _id automática\n",
    "db.publicacoes.insert(\n",
    "  {\t\"_id\": publicacaoId,\n",
    "     \"tipo\": \"livro\",\n",
    "\t\"titulo\": \"Vida Pré-Histórica\",\n",
    "\t\"ano\": 2014\n",
    "  }\n",
    ");\n",
    "\n",
    "// Inserir um documento na coleção autores com _id automática referenciando a publicacao anterior\n",
    "db.autores.insert(\n",
    "  {\n",
    "\t\"autor\": \"Melissa\",\n",
    "\t\"publicacao\": publicacaoId\n",
    "  }\n",
    ");\n",
    "\n",
    "//Outro autor para a mesma publicação\n",
    "db.autores.insert(\n",
    "  {\n",
    "    \"autor\": \"Bryan\",\n",
    "    \"publicacao\": publicacaoId\n",
    "  }\n",
    ");\n",
    "\n",
    "\n",
    "\n",
    "\n",
    "```"
   ]
  },
  {
   "cell_type": "code",
   "execution_count": 19,
   "metadata": {},
   "outputs": [
    {
     "name": "stdout",
     "output_type": "stream",
     "text": [
      "MongoDB shell version v4.2.8\n",
      "connecting to: mongodb://127.0.0.1:27017/?compressors=disabled&gssapiServiceName=mongodb\n",
      "Implicit session: session { \"id\" : UUID(\"4cf19d68-1055-409c-b94f-0fd553a80803\") }\n",
      "MongoDB server version: 4.2.8\n",
      "2020-08-06T03:00:34.682+0000 E  -        [main] file [/home/matheus/resources/scripts/mongodb/idAutomatico.js] doesn't exist\n",
      "2020-08-06T03:00:34.682+0000 F  -        [main] failed to load: /home/matheus/resources/scripts/mongodb/idAutomatico.js\n",
      "2020-08-06T03:00:34.682+0000 E  -        [main] exiting with code -3\n"
     ]
    }
   ],
   "source": [
    "!mongo ~/resources/scripts/mongodb/idAutomatico.js"
   ]
  },
  {
   "cell_type": "code",
   "execution_count": null,
   "metadata": {},
   "outputs": [],
   "source": [
    "!mongo /home/jovyan/resources/autores.js"
   ]
  },
  {
   "cell_type": "code",
   "execution_count": null,
   "metadata": {},
   "outputs": [],
   "source": [
    "!mongo /home/jovyan/resources/publicacoes.js"
   ]
  },
  {
   "cell_type": "markdown",
   "metadata": {},
   "source": [
    "# Simulando um JOIN"
   ]
  },
  {
   "cell_type": "markdown",
   "metadata": {},
   "source": [
    "## Coleções e seus autores"
   ]
  },
  {
   "cell_type": "code",
   "execution_count": null,
   "metadata": {},
   "outputs": [],
   "source": [
    "!cat /home/jovyan/resources/join1.js"
   ]
  },
  {
   "cell_type": "code",
   "execution_count": null,
   "metadata": {},
   "outputs": [],
   "source": [
    "!mongo /home/jovyan/resources/join1.js"
   ]
  },
  {
   "cell_type": "markdown",
   "metadata": {},
   "source": [
    "## Autores das publicações com título \"Vida Pré-Histórica\""
   ]
  },
  {
   "cell_type": "code",
   "execution_count": null,
   "metadata": {},
   "outputs": [],
   "source": [
    "!cat /home/jovyan/resources/join2.js"
   ]
  },
  {
   "cell_type": "code",
   "execution_count": null,
   "metadata": {},
   "outputs": [],
   "source": [
    "!mongo /home/jovyan/resources/join2.js"
   ]
  },
  {
   "cell_type": "code",
   "execution_count": null,
   "metadata": {},
   "outputs": [],
   "source": []
  }
 ],
 "metadata": {
  "kernelspec": {
   "display_name": "Python 3",
   "language": "python",
   "name": "python3"
  },
  "language_info": {
   "codemirror_mode": {
    "name": "ipython",
    "version": 3
   },
   "file_extension": ".py",
   "mimetype": "text/x-python",
   "name": "python",
   "nbconvert_exporter": "python",
   "pygments_lexer": "ipython3",
   "version": "3.7.6"
  }
 },
 "nbformat": 4,
 "nbformat_minor": 4
}
