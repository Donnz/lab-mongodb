{
 "cells": [
  {
   "cell_type": "markdown",
   "metadata": {},
   "source": [
    "## Conectando ao MongoDB usando Python"
   ]
  },
  {
   "cell_type": "code",
   "execution_count": 3,
   "metadata": {},
   "outputs": [],
   "source": [
    "from pymongo import MongoClient\n",
    "from pprintpp import pprint\n",
    "import warnings\n",
    "warnings.filterwarnings('ignore')"
   ]
  },
  {
   "cell_type": "code",
   "execution_count": 4,
   "metadata": {},
   "outputs": [
    {
     "data": {
      "text/plain": [
       "Database(MongoClient(host=['localhost:27017'], document_class=dict, tz_aware=False, connect=True), 'thedatasocietydb')"
      ]
     },
     "execution_count": 4,
     "metadata": {},
     "output_type": "execute_result"
    }
   ],
   "source": [
    "mongoclient = MongoClient('localhost', 27017)\n",
    "db = mongoclient.thedatasocietydb\n",
    "db"
   ]
  },
  {
   "cell_type": "markdown",
   "metadata": {},
   "source": [
    "## Insert\n",
    "\n",
    "* Não há regras de validação rígidas: qualquer tipo de documento pode ser armazenado no banco de dados. \n",
    "\n",
    "* Na prática, somente objetos semelhantes são armazenados na base de dados, porém se um dia aparecer um novo atributo, poderemos inclui-lo apenas nos documentos aonde o mesmo é necessário, ao contrário do modelo relacional, onde uma nova coluna seria necessária e seria aplicada a todos os registros.\n",
    "\n",
    "* Desvantagem: \n",
    "\n",
    "    * Cuidado para que as bases de dados não virem uma grande confusão (vão virar, aceite desde o início)\n",
    "    \n",
    "    \n",
    "* Vantagens:\n",
    "\n",
    "    * Temos uma abordagem n-dimensional para representar objetos (bem… o mundo muda)\n",
    "    \n",
    "    * Facilidade de alteração da estrutura de dados (refatoração fria)\n",
    "\n"
   ]
  },
  {
   "cell_type": "code",
   "execution_count": 8,
   "metadata": {},
   "outputs": [
    {
     "data": {
      "text/plain": [
       "ObjectId('5f2b71998ee902858326e593')"
      ]
     },
     "execution_count": 8,
     "metadata": {},
     "output_type": "execute_result"
    }
   ],
   "source": [
    "# Insere um documento na coleção autores\n",
    "\n",
    "db.autores.insert(\n",
    "  {\n",
    "    \"idade\": 25,\n",
    "    \"autor\": \"Joao\"\n",
    "  }\n",
    ")"
   ]
  },
  {
   "cell_type": "code",
   "execution_count": 9,
   "metadata": {},
   "outputs": [
    {
     "data": {
      "text/plain": [
       "ObjectId('5f2b71998ee902858326e594')"
      ]
     },
     "execution_count": 9,
     "metadata": {},
     "output_type": "execute_result"
    }
   ],
   "source": [
    "#Insere outro documento com estrutura diferente em autores\n",
    "\n",
    "db.autores.insert(\n",
    "  {\n",
    "    \"autor\": \"Joaquim\",\n",
    "    \"idade\": 30,\n",
    "    \"cidade\": \"Campinas\"\n",
    "  }\n",
    ")"
   ]
  },
  {
   "cell_type": "code",
   "execution_count": 10,
   "metadata": {},
   "outputs": [
    {
     "data": {
      "text/plain": [
       "ObjectId('5f2b719e8ee902858326e595')"
      ]
     },
     "execution_count": 10,
     "metadata": {},
     "output_type": "execute_result"
    }
   ],
   "source": [
    "# Insere outro documento com estrutura diferente em autores\n",
    "\n",
    "db.autores.insert(\n",
    "  {\n",
    "      \"nome\": \"Maria\",\n",
    "    \"poemaPreferido\": \"Desejo – Victor Hugo\"\n",
    "  }\n",
    ")"
   ]
  },
  {
   "cell_type": "code",
   "execution_count": 11,
   "metadata": {},
   "outputs": [
    {
     "data": {
      "text/plain": [
       "ObjectId('5f2b719f8ee902858326e596')"
      ]
     },
     "execution_count": 11,
     "metadata": {},
     "output_type": "execute_result"
    }
   ],
   "source": [
    "# Insere documento com estrutura diferente que possui outro documento (publicacao) embutido (embedded)\n",
    "\n",
    "db.autores.insert(\n",
    "  {\n",
    "    \"autor\": \"Horacio\",\n",
    "    \"publicacao\": {    \"tipo\": \"livro\",\n",
    "                \"titulo\": \"Vida dos Dinossauros\",\n",
    "                \"ano\": 2010\n",
    "               }\n",
    "  }\n",
    ")"
   ]
  },
  {
   "cell_type": "markdown",
   "metadata": {},
   "source": [
    "## Find\n",
    "\n",
    "<img src=\"../../resources/images/find.png\" width=\"50%\">"
   ]
  },
  {
   "cell_type": "markdown",
   "metadata": {},
   "source": [
    "Estrutura:\n",
    "\n",
    "```javascript\n",
    "db.collection.find({query},{projection});\n",
    "```\n",
    "\n",
    "\n"
   ]
  },
  {
   "cell_type": "code",
   "execution_count": 21,
   "metadata": {},
   "outputs": [
    {
     "name": "stdout",
     "output_type": "stream",
     "text": [
      "{ \"_id\" : ObjectId(\"5f2b71998ee902858326e593\"), \"idade\" : 25, \"autor\" : \"Joao\" }\n",
      "{ \"_id\" : ObjectId(\"5f2b71998ee902858326e594\"), \"autor\" : \"Joaquim\", \"idade\" : 30, \"cidade\" : \"Campinas\" }\n",
      "{ \"_id\" : ObjectId(\"5f2b719e8ee902858326e595\"), \"nome\" : \"Maria\", \"poemaPreferido\" : \"Desejo – Victor Hugo\" }\n",
      "{ \"_id\" : ObjectId(\"5f2b719f8ee902858326e596\"), \"autor\" : \"Horacio\", \"publicacao\" : { \"tipo\" : \"livro\", \"titulo\" : \"Vida dos Dinossauros\", \"ano\" : 2010 } }\n"
     ]
    }
   ],
   "source": [
    "# Lista todos os documentos da coleção autores\n",
    "\n",
    "! mongo --quiet --eval 'db.autores.find({});' thedatasocietydb\n",
    "\n",
    "\n",
    "# result = db.autores.find({})\n",
    "# for document in result: \n",
    "#     pprint(document)\n",
    "#     print()"
   ]
  },
  {
   "cell_type": "code",
   "execution_count": 22,
   "metadata": {},
   "outputs": [
    {
     "name": "stdout",
     "output_type": "stream",
     "text": [
      "{\n",
      "\t\"_id\" : ObjectId(\"5f2b71998ee902858326e593\"),\n",
      "\t\"idade\" : 25,\n",
      "\t\"autor\" : \"Joao\"\n",
      "}\n",
      "{\n",
      "\t\"_id\" : ObjectId(\"5f2b71998ee902858326e594\"),\n",
      "\t\"autor\" : \"Joaquim\",\n",
      "\t\"idade\" : 30,\n",
      "\t\"cidade\" : \"Campinas\"\n",
      "}\n",
      "{\n",
      "\t\"_id\" : ObjectId(\"5f2b719e8ee902858326e595\"),\n",
      "\t\"nome\" : \"Maria\",\n",
      "\t\"poemaPreferido\" : \"Desejo – Victor Hugo\"\n",
      "}\n",
      "{\n",
      "\t\"_id\" : ObjectId(\"5f2b719f8ee902858326e596\"),\n",
      "\t\"autor\" : \"Horacio\",\n",
      "\t\"publicacao\" : {\n",
      "\t\t\"tipo\" : \"livro\",\n",
      "\t\t\"titulo\" : \"Vida dos Dinossauros\",\n",
      "\t\t\"ano\" : 2010\n",
      "\t}\n",
      "}\n"
     ]
    }
   ],
   "source": [
    "! mongo --quiet --eval 'db.autores.find({}).pretty();' thedatasocietydb"
   ]
  },
  {
   "cell_type": "markdown",
   "metadata": {},
   "source": [
    "<img src=\"../../resources/images/oid.png\" width=\"50%\">\n",
    "\n",
    "<img src=\"../../resources/images/oid2.png\" width=\"50%\">"
   ]
  },
  {
   "cell_type": "markdown",
   "metadata": {},
   "source": [
    "### Condição de igualdade\n"
   ]
  },
  {
   "cell_type": "code",
   "execution_count": 17,
   "metadata": {},
   "outputs": [
    {
     "name": "stdout",
     "output_type": "stream",
     "text": [
      "{\n",
      "    '_id': ObjectId('5f2b719e8ee902858326e595'),\n",
      "    'nome': 'Maria',\n",
      "    'poemaPreferido': 'Desejo – Victor Hugo',\n",
      "}\n"
     ]
    }
   ],
   "source": [
    "# Lista os documentos de autores com nome = Maria\n",
    "\n",
    "result = db.autores.find({\"nome\": \"Maria\"})\n",
    "\n",
    "for document in result: \n",
    "    pprint(document)"
   ]
  },
  {
   "cell_type": "code",
   "execution_count": 18,
   "metadata": {},
   "outputs": [
    {
     "name": "stdout",
     "output_type": "stream",
     "text": [
      "{'poemaPreferido': 'Desejo – Victor Hugo'}\n"
     ]
    }
   ],
   "source": [
    "# Lista poemaPreferido de documentos de autores com nome = Maria\n",
    "\n",
    "result = db.autores.find(\n",
    "                         {\"nome\": \"Maria\"}, \n",
    "                         {\n",
    "                          \"_id\": 0, \n",
    "                          \"poemaPreferido\": 1\n",
    "                         }\n",
    "                    )\n",
    "\n",
    "for document in result: \n",
    "    pprint(document)"
   ]
  },
  {
   "cell_type": "code",
   "execution_count": null,
   "metadata": {},
   "outputs": [],
   "source": [
    "# Lista documentos de autores com tipo da publicacao = livro\n",
    "\n",
    "result = db.autores.find({\"publicacao.tipo\": \"livro\"})\n",
    "\n",
    "for document in result: \n",
    "    pprint(document)"
   ]
  },
  {
   "cell_type": "code",
   "execution_count": null,
   "metadata": {},
   "outputs": [],
   "source": [
    "# Documentos de autores com tipo = livro e ano entre 2000 e 2015\n",
    "\n",
    "result = db.autores.find(\n",
    "                          {\n",
    "                            \"publicacao.tipo\": \"livro\", \n",
    "                            \"publicacao.ano\": {\"$gt\": 1999, \"$lt\": 2016}\n",
    "                          }\n",
    "                        )\n",
    "for document in result: \n",
    "    pprint(document)"
   ]
  },
  {
   "cell_type": "markdown",
   "metadata": {},
   "source": [
    "## Count"
   ]
  },
  {
   "cell_type": "code",
   "execution_count": 14,
   "metadata": {},
   "outputs": [
    {
     "data": {
      "text/plain": [
       "4"
      ]
     },
     "execution_count": 14,
     "metadata": {},
     "output_type": "execute_result"
    }
   ],
   "source": [
    "db.autores.count_documents({})"
   ]
  },
  {
   "cell_type": "code",
   "execution_count": 20,
   "metadata": {},
   "outputs": [
    {
     "data": {
      "text/plain": [
       "1"
      ]
     },
     "execution_count": 20,
     "metadata": {},
     "output_type": "execute_result"
    }
   ],
   "source": [
    "db.autores.count_documents({\"autor\":\"Horacio\"})"
   ]
  },
  {
   "cell_type": "markdown",
   "metadata": {},
   "source": [
    "## Update"
   ]
  },
  {
   "cell_type": "code",
   "execution_count": null,
   "metadata": {},
   "outputs": [],
   "source": [
    "# Atualiza cidade de autor = Joaquim\n",
    "\n",
    "db.autores.update(\n",
    "                   { \"autor\" : \"Joaquim\" },\n",
    "                   { \"$set\": { \n",
    "                               \"cidade\": \"Campinas-SP\" \n",
    "                             } \n",
    "                   }\n",
    ")\n"
   ]
  },
  {
   "cell_type": "code",
   "execution_count": null,
   "metadata": {},
   "outputs": [],
   "source": [
    "result = db.autores.find({ \"autor\" : \"Joaquim\" })\n",
    "\n",
    "for document in result: \n",
    "    pprint(document)"
   ]
  },
  {
   "cell_type": "code",
   "execution_count": null,
   "metadata": {},
   "outputs": [],
   "source": [
    "result = db.autores.find({ \"nome\" : \"Maria\" })\n",
    "\n",
    "for document in result: \n",
    "    pprint(document)"
   ]
  },
  {
   "cell_type": "code",
   "execution_count": null,
   "metadata": {},
   "outputs": [],
   "source": [
    "# Adiciona atributo cidade ao autor de nome = Maria\n",
    "\n",
    "db.autores.update(\n",
    "    {\"nome\": \"Maria\"}, \n",
    "    {\"$set\": {\"cidade\": \"Campinas\"}}\n",
    ")"
   ]
  },
  {
   "cell_type": "code",
   "execution_count": null,
   "metadata": {},
   "outputs": [],
   "source": [
    "result = db.autores.find({ \"nome\" : \"Maria\" })\n",
    "\n",
    "for document in result: \n",
    "    pprint(document)"
   ]
  },
  {
   "cell_type": "code",
   "execution_count": null,
   "metadata": {},
   "outputs": [],
   "source": [
    "# Exclui atributo poemaPreferido ao autor de nome = Maria\n",
    "db.autores.update(\n",
    "    {\"nome\": \"Maria\"}, \n",
    "    {\"$unset\": {\"poemaPreferido\": 1}}\n",
    ")"
   ]
  },
  {
   "cell_type": "code",
   "execution_count": null,
   "metadata": {},
   "outputs": [],
   "source": [
    "result = db.autores.find({ \"nome\" : \"Maria\" })\n",
    "\n",
    "for document in result: \n",
    "    pprint(document)"
   ]
  },
  {
   "cell_type": "code",
   "execution_count": null,
   "metadata": {},
   "outputs": [],
   "source": [
    "# Sobreescreve documento inteiro cujo nome = Maria\n",
    "db.autores.update(\n",
    "  { \"nome\":  \"Maria\" },\n",
    "  { \"autor\": \"Maria\",\n",
    "    \"poemaPreferido\": \"Desejo – Victor Hugo\",\n",
    "    \"publicacao\": { \n",
    "                    \"tipo\": \"livro\",\n",
    "                    \"titulo\": \"Antes da Extinção\",\n",
    "                    \"ano\": 2014\n",
    "              }\n",
    "  }\n",
    ")"
   ]
  },
  {
   "cell_type": "code",
   "execution_count": null,
   "metadata": {},
   "outputs": [],
   "source": [
    "result = db.autores.find({ \"autor\" : \"Maria\" })\n",
    "\n",
    "for document in result: \n",
    "    pprint(document)"
   ]
  },
  {
   "cell_type": "markdown",
   "metadata": {},
   "source": [
    "### Operadores Update\n",
    "\n",
    "* **upsert**: Opcional. Se = true, cria um novo documento quando não encontra um que atende ao critério de busca. Default = false.\n",
    "\n",
    "* **multi:** Opcional. Se = true, atualiza todos os documentos que atendem ao critério de busca. Se = false, atualiza apenas o primeiro documento. Default = false."
   ]
  },
  {
   "cell_type": "code",
   "execution_count": null,
   "metadata": {},
   "outputs": [],
   "source": [
    "# Atualiza todos os documentos com titulo Vida dos Dinossauros\n",
    "db.autores.update(\n",
    "                  { \"publicacao.titulo\":\"Vida dos Dinossauros\"},\n",
    "                  { \"$set\": {\"publicacao.ano\": 2011}},\n",
    "                  False, #upsert\n",
    "                  True   #multi\n",
    ")"
   ]
  },
  {
   "cell_type": "markdown",
   "metadata": {},
   "source": [
    "## Remove"
   ]
  },
  {
   "cell_type": "code",
   "execution_count": null,
   "metadata": {},
   "outputs": [],
   "source": [
    "# Exclui documento cujo autor = Maria\n",
    "\n",
    "db.autores.remove({\"autor\": \"Maria\"})"
   ]
  },
  {
   "cell_type": "code",
   "execution_count": null,
   "metadata": {},
   "outputs": [],
   "source": [
    "# Exclui todos os documentos da coleção\n",
    "\n",
    "db.autores.remove({})"
   ]
  }
 ],
 "metadata": {
  "kernelspec": {
   "display_name": "Python 3",
   "language": "python",
   "name": "python3"
  },
  "language_info": {
   "codemirror_mode": {
    "name": "ipython",
    "version": 3
   },
   "file_extension": ".py",
   "mimetype": "text/x-python",
   "name": "python",
   "nbconvert_exporter": "python",
   "pygments_lexer": "ipython3",
   "version": "3.7.6"
  }
 },
 "nbformat": 4,
 "nbformat_minor": 4
}
