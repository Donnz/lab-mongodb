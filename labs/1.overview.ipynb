{
 "cells": [
  {
   "cell_type": "markdown",
   "metadata": {},
   "source": [
    "### Inicializando e checando o ecossistema de databases"
   ]
  },
  {
   "cell_type": "code",
   "execution_count": null,
   "metadata": {
    "vscode": {
     "languageId": "plaintext"
    }
   },
   "outputs": [],
   "source": [
    "#mongodb\n",
    "!mongo --eval 'rs.initiate(); rs.isMaster().ismaster'\n",
    "\n",
    "#redis\n",
    "!redis-server --daemonize yes\n",
    "!redis-cli ping\n",
    "\n",
    "#cassandra\n",
    "!cqlsh --execute=\"SELECT host_id, bootstrapped FROM system.local;\""
   ]
  },
  {
   "cell_type": "markdown",
   "metadata": {},
   "source": [
    "### Inicializando modulos, libs e variaveis"
   ]
  },
  {
   "cell_type": "code",
   "execution_count": null,
   "metadata": {
    "vscode": {
     "languageId": "plaintext"
    }
   },
   "outputs": [],
   "source": [
    "from pymongo import MongoClient\n",
    "from pprintpp import pprint\n",
    "import warnings\n",
    "from libs.dispute_faker import generate_dispute\n",
    "\n",
    "\n",
    "warnings.filterwarnings('ignore')\n",
    "\n",
    "mongoclient = MongoClient('localhost', 27017)\n",
    "dispute_db = mongoclient[\"disputes\"]\n",
    "print(dispute_db)"
   ]
  },
  {
   "cell_type": "code",
   "execution_count": null,
   "metadata": {
    "vscode": {
     "languageId": "plaintext"
    }
   },
   "outputs": [],
   "source": [
    "inserted = dispute_db['disputes'].insert_many([generate_dispute() for _ in range(500)])\n",
    "pprint(len(inserted.inserted_ids))"
   ]
  },
  {
   "cell_type": "code",
   "execution_count": null,
   "metadata": {
    "vscode": {
     "languageId": "plaintext"
    }
   },
   "outputs": [],
   "source": [
    "! mongo --quiet --eval 'disputes.disputes.find().count();'"
   ]
  },
  {
   "cell_type": "code",
   "execution_count": null,
   "metadata": {
    "vscode": {
     "languageId": "plaintext"
    }
   },
   "outputs": [],
   "source": [
    "! mongo --quiet --eval 'db.getMongo().getDBNames()'"
   ]
  }
 ],
 "metadata": {
  "language_info": {
   "name": "python"
  },
  "orig_nbformat": 4
 },
 "nbformat": 4,
 "nbformat_minor": 2
}
