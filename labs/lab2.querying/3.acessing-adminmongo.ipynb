{
 "cells": [
  {
   "cell_type": "code",
   "execution_count": null,
   "metadata": {},
   "outputs": [],
   "source": [
    "from IPython.core.display import HTML \n",
    "import os"
   ]
  },
  {
   "cell_type": "code",
   "execution_count": null,
   "metadata": {},
   "outputs": [],
   "source": [
    "%env SERVER_URL   hub.gke.mybinder.org\n",
    "%env PROXY_SUBURL proxy/1234/app/connection_list"
   ]
  },
  {
   "cell_type": "code",
   "execution_count": null,
   "metadata": {},
   "outputs": [],
   "source": [
    "url_message='<b>AdminMongo interface is available at:</b> <a href=\"http://{0}{1}{2}\" target=\"_blank\"> http://{0}{1}{2}</a>'\n",
    "display(HTML(url_message.format(os.environ['SERVER_URL'],os.environ['JUPYTERHUB_SERVICE_PREFIX'],os.environ['PROXY_SUBURL'])))"
   ]
  }
 ],
 "metadata": {
  "kernelspec": {
   "display_name": "Python 3",
   "language": "python",
   "name": "python3"
  },
  "language_info": {
   "codemirror_mode": {
    "name": "ipython",
    "version": 3
   },
   "file_extension": ".py",
   "mimetype": "text/x-python",
   "name": "python",
   "nbconvert_exporter": "python",
   "pygments_lexer": "ipython3",
   "version": "3.7.3"
  }
 },
 "nbformat": 4,
 "nbformat_minor": 2
}
