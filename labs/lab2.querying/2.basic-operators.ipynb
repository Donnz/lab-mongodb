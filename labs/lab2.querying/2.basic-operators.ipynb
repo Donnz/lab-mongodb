{
 "cells": [
  {
   "cell_type": "markdown",
   "metadata": {},
   "source": [
    "# Demo 1\n",
    "## Connecting to mongodb using python"
   ]
  },
  {
   "cell_type": "code",
   "execution_count": null,
   "metadata": {},
   "outputs": [],
   "source": [
    "from pymongo import MongoClient\n",
    "from pprintpp import pprint\n",
    "import warnings\n",
    "warnings.filterwarnings('ignore')"
   ]
  },
  {
   "cell_type": "code",
   "execution_count": null,
   "metadata": {},
   "outputs": [],
   "source": [
    "mongoclient = MongoClient('localhost', 27017)\n",
    "db = mongoclient.thedatasocietydb\n",
    "db"
   ]
  },
  {
   "cell_type": "markdown",
   "metadata": {},
   "source": [
    "## Insert\n",
    "\n",
    "* Não há regras de validação rígidas: qualquer tipo de documento pode ser armazenado no banco de dados. \n",
    "\n",
    "* Na prática, somente objetos semelhantes são armazenados na base de dados, porém se um dia aparecer um novo atributo, poderemos inclui-lo apenas nos documentos aonde o mesmo é necessário, ao contrário do modelo relacional, onde uma nova coluna seria necessária e seria aplicada a todos os registros.\n",
    "\n",
    "* Desvantagem: \n",
    "\n",
    "    * Cuidado para que as bases de dados não virem uma grande confusão (vão virar, aceite desde o início)\n",
    "    \n",
    "    \n",
    "* Vantagens:\n",
    "\n",
    "    * Temos uma abordagem n-dimensional para representar objetos (bem… o mundo muda)\n",
    "    \n",
    "    * Facilidade de alteração da estrutura de dados (refatoração fria)\n",
    "\n"
   ]
  },
  {
   "cell_type": "code",
   "execution_count": null,
   "metadata": {},
   "outputs": [],
   "source": [
    "# Insere um documento na coleção autores\n",
    "\n",
    "db.autores.insert(\n",
    "  {\n",
    "    \"idade\": 25,\n",
    "    \"autor\": \"Joao\"\n",
    "  }\n",
    ")"
   ]
  },
  {
   "cell_type": "code",
   "execution_count": null,
   "metadata": {},
   "outputs": [],
   "source": [
    "#Insere outro documento com estrutura diferente em autores\n",
    "\n",
    "db.autores.insert(\n",
    "  {\n",
    "    \"autor\": \"Joaquim\",\n",
    "    \"idade\": 30,\n",
    "    \"cidade\": \"Campinas\"\n",
    "  }\n",
    ")"
   ]
  },
  {
   "cell_type": "code",
   "execution_count": null,
   "metadata": {},
   "outputs": [],
   "source": [
    "# Insere outro documento com estrutura diferente em autores\n",
    "\n",
    "db.autores.insert(\n",
    "  {\n",
    "      \"nome\": \"Maria\",\n",
    "    \"poemaPreferido\": \"Desejo – Victor Hugo\"\n",
    "  }\n",
    ")"
   ]
  },
  {
   "cell_type": "code",
   "execution_count": null,
   "metadata": {},
   "outputs": [],
   "source": [
    "# Insere documento com estrutura diferente que possui outro documento (publicacao) embutido (embedded)\n",
    "\n",
    "db.autores.insert(\n",
    "  {\n",
    "    \"autor\": \"Horacio\",\n",
    "    \"publicacao\": {    \"tipo\": \"livro\",\n",
    "                \"titulo\": \"Vida dos Dinossauros\",\n",
    "                \"ano\": 2010\n",
    "               }\n",
    "  }\n",
    ")"
   ]
  },
  {
   "cell_type": "markdown",
   "metadata": {},
   "source": [
    "## Count"
   ]
  },
  {
   "cell_type": "code",
   "execution_count": null,
   "metadata": {},
   "outputs": [],
   "source": [
    "# db.thedatasocietydb.count()\n",
    "\n",
    "db.autores.count_documents({})"
   ]
  },
  {
   "cell_type": "markdown",
   "metadata": {},
   "source": [
    "## Find"
   ]
  },
  {
   "cell_type": "markdown",
   "metadata": {},
   "source": [
    "Structure:\n",
    "\n",
    "```bash\n",
    "db.collection.find({query},{projection});\n",
    "```\n"
   ]
  },
  {
   "cell_type": "code",
   "execution_count": null,
   "metadata": {},
   "outputs": [],
   "source": [
    "# Lista todos os documentos da coleção autores\n",
    "\n",
    "result = db.autores.find({})\n",
    "\n",
    "for document in result: \n",
    "    pprint(document)\n",
    "    print()"
   ]
  },
  {
   "cell_type": "code",
   "execution_count": null,
   "metadata": {},
   "outputs": [],
   "source": [
    "# Lista os documentos de autores com nome = Maria\n",
    "\n",
    "result = db.autores.find({\"nome\": \"Maria\"})\n",
    "\n",
    "for document in result: \n",
    "    pprint(document)"
   ]
  },
  {
   "cell_type": "code",
   "execution_count": null,
   "metadata": {},
   "outputs": [],
   "source": [
    "# Lista poemaPreferido de documentos de autores com nome = Maria\n",
    "\n",
    "result = db.autores.find(\n",
    "                         {\"nome\": \"Maria\"}, \n",
    "                         {\n",
    "                          \"_id\": 0, \n",
    "                          \"poemaPreferido\": 1\n",
    "                         }\n",
    "                    )\n",
    "\n",
    "for document in result: \n",
    "    pprint(document)"
   ]
  },
  {
   "cell_type": "code",
   "execution_count": null,
   "metadata": {},
   "outputs": [],
   "source": [
    "# Lista documentos de autores com tipo da publicacao = livro\n",
    "\n",
    "result = db.autores.find({\"publicacao.tipo\": \"livro\"})\n",
    "\n",
    "for document in result: \n",
    "    pprint(document)"
   ]
  },
  {
   "cell_type": "code",
   "execution_count": null,
   "metadata": {},
   "outputs": [],
   "source": [
    "# Documentos de autores com tipo = livro e ano entre 2000 e 2015\n",
    "\n",
    "result = db.autores.find(\n",
    "                          {\n",
    "                            \"publicacao.tipo\": \"livro\", \n",
    "                            \"publicacao.ano\": {\"$gt\": 1999, \"$lt\": 2016}\n",
    "                          }\n",
    "                        )\n",
    "for document in result: \n",
    "    pprint(document)"
   ]
  },
  {
   "cell_type": "markdown",
   "metadata": {},
   "source": [
    "## Update"
   ]
  },
  {
   "cell_type": "code",
   "execution_count": null,
   "metadata": {},
   "outputs": [],
   "source": [
    "# Atualiza cidade de autor = Joaquim\n",
    "\n",
    "db.autores.update(\n",
    "                   { \"autor\" : \"Joaquim\" },\n",
    "                   { \"$set\": { \n",
    "                               \"cidade\": \"Campinas-SP\" \n",
    "                             } \n",
    "                   }\n",
    ")\n"
   ]
  },
  {
   "cell_type": "code",
   "execution_count": null,
   "metadata": {},
   "outputs": [],
   "source": [
    "result = db.autores.find({ \"autor\" : \"Joaquim\" })\n",
    "\n",
    "for document in result: \n",
    "    pprint(document)"
   ]
  },
  {
   "cell_type": "code",
   "execution_count": null,
   "metadata": {},
   "outputs": [],
   "source": [
    "result = db.autores.find({ \"nome\" : \"Maria\" })\n",
    "\n",
    "for document in result: \n",
    "    pprint(document)"
   ]
  },
  {
   "cell_type": "code",
   "execution_count": null,
   "metadata": {},
   "outputs": [],
   "source": [
    "# Adiciona atributo cidade ao autor de nome = Maria\n",
    "\n",
    "db.autores.update(\n",
    "    {\"nome\": \"Maria\"}, \n",
    "    {\"$set\": {\"cidade\": \"Campinas\"}}\n",
    ")"
   ]
  },
  {
   "cell_type": "code",
   "execution_count": null,
   "metadata": {},
   "outputs": [],
   "source": [
    "result = db.autores.find({ \"nome\" : \"Maria\" })\n",
    "\n",
    "for document in result: \n",
    "    pprint(document)"
   ]
  },
  {
   "cell_type": "code",
   "execution_count": null,
   "metadata": {},
   "outputs": [],
   "source": [
    "# Exclui atributo poemaPreferido ao autor de nome = Maria\n",
    "db.autores.update(\n",
    "    {\"nome\": \"Maria\"}, \n",
    "    {\"$unset\": {\"poemaPreferido\": 1}}\n",
    ")"
   ]
  },
  {
   "cell_type": "code",
   "execution_count": null,
   "metadata": {},
   "outputs": [],
   "source": [
    "result = db.autores.find({ \"nome\" : \"Maria\" })\n",
    "\n",
    "for document in result: \n",
    "    pprint(document)"
   ]
  },
  {
   "cell_type": "code",
   "execution_count": null,
   "metadata": {},
   "outputs": [],
   "source": [
    "# Sobreescreve documento inteiro cujo nome = Maria\n",
    "db.autores.update(\n",
    "  { \"nome\":  \"Maria\" },\n",
    "  { \"autor\": \"Maria\",\n",
    "    \"poemaPreferido\": \"Desejo – Victor Hugo\",\n",
    "    \"publicacao\": { \n",
    "                    \"tipo\": \"livro\",\n",
    "                    \"titulo\": \"Antes da Extinção\",\n",
    "                    \"ano\": 2014\n",
    "              }\n",
    "  }\n",
    ")"
   ]
  },
  {
   "cell_type": "code",
   "execution_count": null,
   "metadata": {},
   "outputs": [],
   "source": [
    "result = db.autores.find({ \"autor\" : \"Maria\" })\n",
    "\n",
    "for document in result: \n",
    "    pprint(document)"
   ]
  },
  {
   "cell_type": "markdown",
   "metadata": {},
   "source": [
    "### Operadores Update\n",
    "\n",
    "* **upsert**: Opcional. Se = true, cria um novo documento quando não encontra um que atende ao critério de busca. Default = false.\n",
    "\n",
    "* **multi:** Opcional. Se = true, atualiza todos os documentos que atendem ao critério de busca. Se = false, atualiza apenas o primeiro documento. Default = false."
   ]
  },
  {
   "cell_type": "code",
   "execution_count": null,
   "metadata": {},
   "outputs": [],
   "source": [
    "# Atualiza todos os documentos com titulo Vida dos Dinossauros\n",
    "db.autores.update(\n",
    "                  { \"publicacao.titulo\":\"Vida dos Dinossauros\"},\n",
    "                  { \"$set\": {\"publicacao.ano\": 2011}},\n",
    "                  False, #upsert\n",
    "                  True   #multi\n",
    ")"
   ]
  },
  {
   "cell_type": "markdown",
   "metadata": {},
   "source": [
    "## Remove"
   ]
  },
  {
   "cell_type": "code",
   "execution_count": null,
   "metadata": {},
   "outputs": [],
   "source": [
    "# Exclui documento cujo autor = Maria\n",
    "\n",
    "db.autores.remove({\"autor\": \"Maria\"})"
   ]
  },
  {
   "cell_type": "code",
   "execution_count": null,
   "metadata": {},
   "outputs": [],
   "source": [
    "# Exclui todos os documentos da coleção\n",
    "\n",
    "db.autores.remove({})"
   ]
  },
  {
   "cell_type": "markdown",
   "metadata": {},
   "source": [
    "## Referencing"
   ]
  },
  {
   "cell_type": "code",
   "execution_count": null,
   "metadata": {},
   "outputs": [],
   "source": []
  },
  {
   "cell_type": "code",
   "execution_count": null,
   "metadata": {},
   "outputs": [],
   "source": []
  }
 ],
 "metadata": {
  "kernelspec": {
   "display_name": "Python 3",
   "language": "python",
   "name": "python3"
  },
  "language_info": {
   "codemirror_mode": {
    "name": "ipython",
    "version": 3
   },
   "file_extension": ".py",
   "mimetype": "text/x-python",
   "name": "python",
   "nbconvert_exporter": "python",
   "pygments_lexer": "ipython3",
   "version": "3.7.3"
  }
 },
 "nbformat": 4,
 "nbformat_minor": 2
}
