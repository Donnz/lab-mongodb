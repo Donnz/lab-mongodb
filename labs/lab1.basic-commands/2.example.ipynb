{
 "cells": [
  {
   "cell_type": "markdown",
   "metadata": {},
   "source": [
    "# Demo 1\n",
    "## Connecting to mongodb using python"
   ]
  },
  {
   "cell_type": "code",
   "execution_count": 1,
   "metadata": {},
   "outputs": [],
   "source": [
    "from pymongo import MongoClient\n",
    "from pprintpp import pprint\n",
    "import warnings\n",
    "warnings.filterwarnings('ignore')"
   ]
  },
  {
   "cell_type": "code",
   "execution_count": 2,
   "metadata": {},
   "outputs": [
    {
     "data": {
      "text/plain": [
       "Database(MongoClient(host=['localhost:27017'], document_class=dict, tz_aware=False, connect=True), 'thedatasocietydb')"
      ]
     },
     "execution_count": 2,
     "metadata": {},
     "output_type": "execute_result"
    }
   ],
   "source": [
    "mongoclient = MongoClient('localhost', 27017)\n",
    "db = mongoclient.thedatasocietydb\n",
    "db"
   ]
  },
  {
   "cell_type": "markdown",
   "metadata": {},
   "source": [
    "## Insert\n",
    "\n",
    "* Não há regras de validação rígidas: qualquer tipo de documento pode ser armazenado no banco de dados. \n",
    "\n",
    "* Na prática, somente objetos semelhantes são armazenados na base de dados, porém se um dia aparecer um novo atributo, poderemos inclui-lo apenas nos documentos aonde o mesmo é necessário, ao contrário do modelo relacional, onde uma nova coluna seria necessária e seria aplicada a todos os registros.\n",
    "\n",
    "* Desvantagem: \n",
    "\n",
    "    * Cuidado para que as bases de dados não virem uma grande confusão (vão virar, aceite desde o início)\n",
    "    \n",
    "    \n",
    "* Vantagens:\n",
    "\n",
    "    * Temos uma abordagem n-dimensional para representar objetos (bem… o mundo muda)\n",
    "    \n",
    "    * Facilidade de alteração da estrutura de dados (refatoração fria)\n",
    "\n"
   ]
  },
  {
   "cell_type": "code",
   "execution_count": 3,
   "metadata": {},
   "outputs": [
    {
     "data": {
      "text/plain": [
       "ObjectId('5d44e9d105c85aee1d563b41')"
      ]
     },
     "execution_count": 3,
     "metadata": {},
     "output_type": "execute_result"
    }
   ],
   "source": [
    "# Insere um documento na coleção autores\n",
    "\n",
    "db.autores.insert(\n",
    "  {\n",
    "    \"idade\": 25,\n",
    "    \"autor\": \"Joao\"\n",
    "  }\n",
    ")"
   ]
  },
  {
   "cell_type": "code",
   "execution_count": 4,
   "metadata": {},
   "outputs": [
    {
     "data": {
      "text/plain": [
       "ObjectId('5d44e9d105c85aee1d563b42')"
      ]
     },
     "execution_count": 4,
     "metadata": {},
     "output_type": "execute_result"
    }
   ],
   "source": [
    "#Insere outro documento com estrutura diferente em autores\n",
    "\n",
    "db.autores.insert(\n",
    "  {\n",
    "    \"autor\": \"Joaquim\",\n",
    "    \"idade\": 30,\n",
    "    \"cidade\": \"Campinas\"\n",
    "  }\n",
    ")"
   ]
  },
  {
   "cell_type": "code",
   "execution_count": 5,
   "metadata": {},
   "outputs": [
    {
     "data": {
      "text/plain": [
       "ObjectId('5d44e9d105c85aee1d563b43')"
      ]
     },
     "execution_count": 5,
     "metadata": {},
     "output_type": "execute_result"
    }
   ],
   "source": [
    "# Insere outro documento com estrutura diferente em autores\n",
    "\n",
    "db.autores.insert(\n",
    "  {\n",
    "      \"nome\": \"Maria\",\n",
    "    \"poemaPreferido\": \"Desejo – Victor Hugo\"\n",
    "  }\n",
    ")"
   ]
  },
  {
   "cell_type": "code",
   "execution_count": 6,
   "metadata": {},
   "outputs": [
    {
     "data": {
      "text/plain": [
       "ObjectId('5d44e9d105c85aee1d563b44')"
      ]
     },
     "execution_count": 6,
     "metadata": {},
     "output_type": "execute_result"
    }
   ],
   "source": [
    "# Insere documento com estrutura diferente que possui outro documento (publicacao) embutido (embedded)\n",
    "\n",
    "db.autores.insert(\n",
    "  {\n",
    "    \"autor\": \"Horacio\",\n",
    "    \"publicacao\": {    \"tipo\": \"livro\",\n",
    "                \"titulo\": \"Vida dos Dinossauros\",\n",
    "                \"ano\": 2010\n",
    "               }\n",
    "  }\n",
    ")"
   ]
  },
  {
   "cell_type": "markdown",
   "metadata": {},
   "source": [
    "## Count"
   ]
  },
  {
   "cell_type": "code",
   "execution_count": 7,
   "metadata": {},
   "outputs": [
    {
     "data": {
      "text/plain": [
       "4"
      ]
     },
     "execution_count": 7,
     "metadata": {},
     "output_type": "execute_result"
    }
   ],
   "source": [
    "# db.thedatasocietydb.count()\n",
    "\n",
    "db.autores.count_documents({})"
   ]
  },
  {
   "cell_type": "markdown",
   "metadata": {},
   "source": [
    "## Find"
   ]
  },
  {
   "cell_type": "markdown",
   "metadata": {},
   "source": [
    "Structure:\n",
    "\n",
    "```bash\n",
    "db.collection.find({query},{projection});\n",
    "```\n"
   ]
  },
  {
   "cell_type": "code",
   "execution_count": 8,
   "metadata": {},
   "outputs": [
    {
     "name": "stdout",
     "output_type": "stream",
     "text": [
      "{'_id': ObjectId('5d44e9d105c85aee1d563b41'), 'autor': 'Joao', 'idade': 25}\n",
      "\n",
      "{\n",
      "    '_id': ObjectId('5d44e9d105c85aee1d563b42'),\n",
      "    'autor': 'Joaquim',\n",
      "    'cidade': 'Campinas',\n",
      "    'idade': 30,\n",
      "}\n",
      "\n",
      "{\n",
      "    '_id': ObjectId('5d44e9d105c85aee1d563b43'),\n",
      "    'nome': 'Maria',\n",
      "    'poemaPreferido': 'Desejo – Victor Hugo',\n",
      "}\n",
      "\n",
      "{\n",
      "    '_id': ObjectId('5d44e9d105c85aee1d563b44'),\n",
      "    'autor': 'Horacio',\n",
      "    'publicacao': {\n",
      "        'ano': 2010,\n",
      "        'tipo': 'livro',\n",
      "        'titulo': 'Vida dos Dinossauros',\n",
      "    },\n",
      "}\n",
      "\n"
     ]
    }
   ],
   "source": [
    "# Lista todos os documentos da coleção autores\n",
    "\n",
    "result = db.autores.find({})\n",
    "\n",
    "for document in result: \n",
    "    pprint(document)\n",
    "    print()"
   ]
  },
  {
   "cell_type": "code",
   "execution_count": 9,
   "metadata": {},
   "outputs": [
    {
     "name": "stdout",
     "output_type": "stream",
     "text": [
      "{\n",
      "    '_id': ObjectId('5d44e9d105c85aee1d563b43'),\n",
      "    'nome': 'Maria',\n",
      "    'poemaPreferido': 'Desejo – Victor Hugo',\n",
      "}\n"
     ]
    }
   ],
   "source": [
    "# Lista os documentos de autores com nome = Maria\n",
    "\n",
    "result = db.autores.find({\"nome\": \"Maria\"})\n",
    "\n",
    "for document in result: \n",
    "    pprint(document)"
   ]
  },
  {
   "cell_type": "code",
   "execution_count": 10,
   "metadata": {},
   "outputs": [
    {
     "name": "stdout",
     "output_type": "stream",
     "text": [
      "{'poemaPreferido': 'Desejo – Victor Hugo'}\n"
     ]
    }
   ],
   "source": [
    "# Lista poemaPreferido de documentos de autores com nome = Maria\n",
    "\n",
    "result = db.autores.find(\n",
    "                         {\"nome\": \"Maria\"}, \n",
    "                         {\n",
    "                          \"_id\": 0, \n",
    "                          \"poemaPreferido\": 1\n",
    "                         }\n",
    "                    )\n",
    "\n",
    "for document in result: \n",
    "    pprint(document)"
   ]
  },
  {
   "cell_type": "code",
   "execution_count": 11,
   "metadata": {},
   "outputs": [
    {
     "name": "stdout",
     "output_type": "stream",
     "text": [
      "{\n",
      "    '_id': ObjectId('5d44e9d105c85aee1d563b44'),\n",
      "    'autor': 'Horacio',\n",
      "    'publicacao': {\n",
      "        'ano': 2010,\n",
      "        'tipo': 'livro',\n",
      "        'titulo': 'Vida dos Dinossauros',\n",
      "    },\n",
      "}\n"
     ]
    }
   ],
   "source": [
    "# Lista documentos de autores com tipo da publicacao = livro\n",
    "\n",
    "result = db.autores.find({\"publicacao.tipo\": \"livro\"})\n",
    "\n",
    "for document in result: \n",
    "    pprint(document)"
   ]
  },
  {
   "cell_type": "code",
   "execution_count": 12,
   "metadata": {},
   "outputs": [
    {
     "name": "stdout",
     "output_type": "stream",
     "text": [
      "{\n",
      "    '_id': ObjectId('5d44e9d105c85aee1d563b44'),\n",
      "    'autor': 'Horacio',\n",
      "    'publicacao': {\n",
      "        'ano': 2010,\n",
      "        'tipo': 'livro',\n",
      "        'titulo': 'Vida dos Dinossauros',\n",
      "    },\n",
      "}\n"
     ]
    }
   ],
   "source": [
    "# Documentos de autores com tipo = livro e ano entre 2000 e 2015\n",
    "\n",
    "result = db.autores.find(\n",
    "                          {\n",
    "                            \"publicacao.tipo\": \"livro\", \n",
    "                            \"publicacao.ano\": {\"$gt\": 1999, \"$lt\": 2016}\n",
    "                          }\n",
    "                        )\n",
    "for document in result: \n",
    "    pprint(document)"
   ]
  },
  {
   "cell_type": "markdown",
   "metadata": {},
   "source": [
    "## Update"
   ]
  },
  {
   "cell_type": "code",
   "execution_count": 13,
   "metadata": {},
   "outputs": [
    {
     "data": {
      "text/plain": [
       "{'n': 1, 'nModified': 1, 'ok': 1.0, 'updatedExisting': True}"
      ]
     },
     "execution_count": 13,
     "metadata": {},
     "output_type": "execute_result"
    }
   ],
   "source": [
    "# Atualiza cidade de autor = Joaquim\n",
    "\n",
    "db.autores.update(\n",
    "                   { \"autor\" : \"Joaquim\" },\n",
    "                   { \"$set\": { \n",
    "                               \"cidade\": \"Campinas-SP\" \n",
    "                             } \n",
    "                   }\n",
    ")\n"
   ]
  },
  {
   "cell_type": "code",
   "execution_count": 14,
   "metadata": {},
   "outputs": [
    {
     "name": "stdout",
     "output_type": "stream",
     "text": [
      "{\n",
      "    '_id': ObjectId('5d44e9d105c85aee1d563b42'),\n",
      "    'autor': 'Joaquim',\n",
      "    'cidade': 'Campinas-SP',\n",
      "    'idade': 30,\n",
      "}\n"
     ]
    }
   ],
   "source": [
    "result = db.autores.find({ \"autor\" : \"Joaquim\" })\n",
    "\n",
    "for document in result: \n",
    "    pprint(document)"
   ]
  },
  {
   "cell_type": "code",
   "execution_count": 15,
   "metadata": {},
   "outputs": [
    {
     "name": "stdout",
     "output_type": "stream",
     "text": [
      "{\n",
      "    '_id': ObjectId('5d44e9d105c85aee1d563b43'),\n",
      "    'nome': 'Maria',\n",
      "    'poemaPreferido': 'Desejo – Victor Hugo',\n",
      "}\n"
     ]
    }
   ],
   "source": [
    "result = db.autores.find({ \"nome\" : \"Maria\" })\n",
    "\n",
    "for document in result: \n",
    "    pprint(document)"
   ]
  },
  {
   "cell_type": "code",
   "execution_count": 16,
   "metadata": {},
   "outputs": [
    {
     "data": {
      "text/plain": [
       "{'n': 1, 'nModified': 1, 'ok': 1.0, 'updatedExisting': True}"
      ]
     },
     "execution_count": 16,
     "metadata": {},
     "output_type": "execute_result"
    }
   ],
   "source": [
    "# Adiciona atributo cidade ao autor de nome = Maria\n",
    "\n",
    "db.autores.update(\n",
    "    {\"nome\": \"Maria\"}, \n",
    "    {\"$set\": {\"cidade\": \"Campinas\"}}\n",
    ")"
   ]
  },
  {
   "cell_type": "code",
   "execution_count": 17,
   "metadata": {},
   "outputs": [
    {
     "name": "stdout",
     "output_type": "stream",
     "text": [
      "{\n",
      "    '_id': ObjectId('5d44e9d105c85aee1d563b43'),\n",
      "    'cidade': 'Campinas',\n",
      "    'nome': 'Maria',\n",
      "    'poemaPreferido': 'Desejo – Victor Hugo',\n",
      "}\n"
     ]
    }
   ],
   "source": [
    "result = db.autores.find({ \"nome\" : \"Maria\" })\n",
    "\n",
    "for document in result: \n",
    "    pprint(document)"
   ]
  },
  {
   "cell_type": "code",
   "execution_count": 18,
   "metadata": {},
   "outputs": [
    {
     "data": {
      "text/plain": [
       "{'n': 1, 'nModified': 1, 'ok': 1.0, 'updatedExisting': True}"
      ]
     },
     "execution_count": 18,
     "metadata": {},
     "output_type": "execute_result"
    }
   ],
   "source": [
    "# Exclui atributo poemaPreferido ao autor de nome = Maria\n",
    "db.autores.update(\n",
    "    {\"nome\": \"Maria\"}, \n",
    "    {\"$unset\": {\"poemaPreferido\": 1}}\n",
    ")"
   ]
  },
  {
   "cell_type": "code",
   "execution_count": 19,
   "metadata": {},
   "outputs": [
    {
     "name": "stdout",
     "output_type": "stream",
     "text": [
      "{\n",
      "    '_id': ObjectId('5d44e9d105c85aee1d563b43'),\n",
      "    'cidade': 'Campinas',\n",
      "    'nome': 'Maria',\n",
      "}\n"
     ]
    }
   ],
   "source": [
    "result = db.autores.find({ \"nome\" : \"Maria\" })\n",
    "\n",
    "for document in result: \n",
    "    pprint(document)"
   ]
  },
  {
   "cell_type": "code",
   "execution_count": 20,
   "metadata": {},
   "outputs": [
    {
     "data": {
      "text/plain": [
       "{'n': 1, 'nModified': 1, 'ok': 1.0, 'updatedExisting': True}"
      ]
     },
     "execution_count": 20,
     "metadata": {},
     "output_type": "execute_result"
    }
   ],
   "source": [
    "# Sobreescreve documento inteiro cujo nome = Maria\n",
    "db.autores.update(\n",
    "  { \"nome\":  \"Maria\" },\n",
    "  { \"autor\": \"Maria\",\n",
    "    \"poemaPreferido\": \"Desejo – Victor Hugo\",\n",
    "    \"publicacao\": { \n",
    "                    \"tipo\": \"livro\",\n",
    "                    \"titulo\": \"Antes da Extinção\",\n",
    "                    \"ano\": 2014\n",
    "              }\n",
    "  }\n",
    ")"
   ]
  },
  {
   "cell_type": "code",
   "execution_count": 23,
   "metadata": {},
   "outputs": [
    {
     "name": "stdout",
     "output_type": "stream",
     "text": [
      "{\n",
      "    '_id': ObjectId('5d44e9d105c85aee1d563b43'),\n",
      "    'autor': 'Maria',\n",
      "    'poemaPreferido': 'Desejo – Victor Hugo',\n",
      "    'publicacao': {\n",
      "        'ano': 2014,\n",
      "        'tipo': 'livro',\n",
      "        'titulo': 'Antes da Extinção',\n",
      "    },\n",
      "}\n"
     ]
    }
   ],
   "source": [
    "result = db.autores.find({ \"autor\" : \"Maria\" })\n",
    "\n",
    "for document in result: \n",
    "    pprint(document)"
   ]
  },
  {
   "cell_type": "markdown",
   "metadata": {},
   "source": [
    "### Operadores Update\n",
    "\n",
    "* **upsert**: Opcional. Se = true, cria um novo documento quando não encontra um que atende ao critério de busca. Default = false.\n",
    "\n",
    "* **multi:** Opcional. Se = true, atualiza todos os documentos que atendem ao critério de busca. Se = false, atualiza apenas o primeiro documento. Default = false."
   ]
  },
  {
   "cell_type": "code",
   "execution_count": 25,
   "metadata": {},
   "outputs": [
    {
     "data": {
      "text/plain": [
       "{'n': 1, 'nModified': 1, 'ok': 1.0, 'updatedExisting': True}"
      ]
     },
     "execution_count": 25,
     "metadata": {},
     "output_type": "execute_result"
    }
   ],
   "source": [
    "# Atualiza todos os documentos com titulo Vida dos Dinossauros\n",
    "db.autores.update(\n",
    "                  { \"publicacao.titulo\":\"Vida dos Dinossauros\"},\n",
    "                  { \"$set\": {\"publicacao.ano\": 2011}},\n",
    "                  False, #upsert\n",
    "                  True   #multi\n",
    ")"
   ]
  },
  {
   "cell_type": "markdown",
   "metadata": {},
   "source": [
    "## Remove"
   ]
  },
  {
   "cell_type": "code",
   "execution_count": 27,
   "metadata": {},
   "outputs": [
    {
     "data": {
      "text/plain": [
       "{'n': 0, 'ok': 1.0}"
      ]
     },
     "execution_count": 27,
     "metadata": {},
     "output_type": "execute_result"
    }
   ],
   "source": [
    "# Exclui documento cujo autor = Maria\n",
    "\n",
    "db.autores.remove({\"autor\": \"Maria\"})"
   ]
  },
  {
   "cell_type": "code",
   "execution_count": 29,
   "metadata": {},
   "outputs": [
    {
     "data": {
      "text/plain": [
       "{'n': 0, 'ok': 1.0}"
      ]
     },
     "execution_count": 29,
     "metadata": {},
     "output_type": "execute_result"
    }
   ],
   "source": [
    "# Exclui todos os documentos da coleção\n",
    "\n",
    "db.autores.remove({})"
   ]
  },
  {
   "cell_type": "markdown",
   "metadata": {},
   "source": [
    "## Referencing"
   ]
  },
  {
   "cell_type": "code",
   "execution_count": null,
   "metadata": {},
   "outputs": [],
   "source": []
  },
  {
   "cell_type": "code",
   "execution_count": null,
   "metadata": {},
   "outputs": [],
   "source": []
  }
 ],
 "metadata": {
  "kernelspec": {
   "display_name": "Python 3",
   "language": "python",
   "name": "python3"
  },
  "language_info": {
   "codemirror_mode": {
    "name": "ipython",
    "version": 3
   },
   "file_extension": ".py",
   "mimetype": "text/x-python",
   "name": "python",
   "nbconvert_exporter": "python",
   "pygments_lexer": "ipython3",
   "version": "3.7.3"
  }
 },
 "nbformat": 4,
 "nbformat_minor": 2
}
